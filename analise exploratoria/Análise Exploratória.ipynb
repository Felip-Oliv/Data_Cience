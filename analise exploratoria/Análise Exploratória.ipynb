{
 "cells": [
  {
   "cell_type": "markdown",
   "metadata": {
    "id": "sMAfOAq-acjO"
   },
   "source": [
    "# Trabalho de Analise Exploratória\n",
    "Aluno: Luiz Felipe Antunes Oliveira\n",
    "\n",
    "A Análise Exploratória é uma fase importante de uma tarefa de Ciência de Dados. É nesta fase que buscamos entender os dados com os seguintes objetivos:\n",
    "\n",
    "- Identificar padrões iniciais\n",
    "- Formular perguntas de pesquisa e hipóteses\n",
    "- Identificar dados incompletos ou não confiáveis\n",
    "\n",
    "Para atingir os objetivos, em geral usa-se uma combinação de análises estatísticas com uma grande ênfase em geração e interpretação de gráficos."
   ]
  },
  {
   "cell_type": "markdown",
   "metadata": {
    "id": "aOG1Ey8EacjT"
   },
   "source": [
    "## Leitura e análise inicial dos dados\n"
   ]
  },
  {
   "cell_type": "code",
   "execution_count": 5,
   "metadata": {
    "colab": {
     "base_uri": "https://localhost:8080/"
    },
    "executionInfo": {
     "elapsed": 2378,
     "status": "ok",
     "timestamp": 1663186955762,
     "user": {
      "displayName": "Mary Camila",
      "userId": "10145587910349238787"
     },
     "user_tz": 180
    },
    "id": "ES3JjW0raqm9",
    "outputId": "4d81b7b0-ebd4-4489-e69f-b82b4b7e82c4"
   },
   "outputs": [],
   "source": [
    "import numpy as np\n",
    "import pandas as pd\n",
    "from matplotlib import pyplot as plt\n",
    "import seaborn as sns\n",
    "import warnings\n",
    "warnings.filterwarnings(\"ignore\", category=FutureWarning)\n",
    "\n",
    "sns.set()\n"
   ]
  },
  {
   "cell_type": "code",
   "execution_count": 7,
   "metadata": {
    "id": "gm6C9wrQacjU"
   },
   "outputs": [],
   "source": [
    "%matplotlib inline\n",
    "\n",
    "df = pd.read_csv('C:/Users/Felipe Oliveira/Desktop/app002/Data_Cience/dataset/Video_Games_Sales_2016(LIMPO2).csv',\n",
    "                      sep=',', encoding='utf-8')"
   ]
  },
  {
   "cell_type": "code",
   "execution_count": 9,
   "metadata": {
    "colab": {
     "base_uri": "https://localhost:8080/",
     "height": 580
    },
    "executionInfo": {
     "elapsed": 403,
     "status": "ok",
     "timestamp": 1663185003523,
     "user": {
      "displayName": "Mary Camila",
      "userId": "10145587910349238787"
     },
     "user_tz": 180
    },
    "id": "14pA7DU5acjW",
    "outputId": "f1e2be77-89af-4f21-9c0c-df1bef76339f"
   },
   "outputs": [
    {
     "data": {
      "text/html": [
       "<div>\n",
       "<style scoped>\n",
       "    .dataframe tbody tr th:only-of-type {\n",
       "        vertical-align: middle;\n",
       "    }\n",
       "\n",
       "    .dataframe tbody tr th {\n",
       "        vertical-align: top;\n",
       "    }\n",
       "\n",
       "    .dataframe thead th {\n",
       "        text-align: right;\n",
       "    }\n",
       "</style>\n",
       "<table border=\"1\" class=\"dataframe\">\n",
       "  <thead>\n",
       "    <tr style=\"text-align: right;\">\n",
       "      <th></th>\n",
       "      <th>NOME</th>\n",
       "      <th>PLATAFORMA</th>\n",
       "      <th>GENERO</th>\n",
       "      <th>VENDAS(AN)</th>\n",
       "      <th>VENDAS(EU)</th>\n",
       "      <th>VENDAS(JP)</th>\n",
       "      <th>VENDAS(Outros)</th>\n",
       "      <th>VENDAS(GLOBAL)</th>\n",
       "    </tr>\n",
       "  </thead>\n",
       "  <tbody>\n",
       "    <tr>\n",
       "      <th>0</th>\n",
       "      <td>Wii Sports</td>\n",
       "      <td>Wii</td>\n",
       "      <td>Sports</td>\n",
       "      <td>41.36</td>\n",
       "      <td>28.96</td>\n",
       "      <td>3.77</td>\n",
       "      <td>8.45</td>\n",
       "      <td>82.53</td>\n",
       "    </tr>\n",
       "    <tr>\n",
       "      <th>1</th>\n",
       "      <td>Super Mario Bros.</td>\n",
       "      <td>NES</td>\n",
       "      <td>Platform</td>\n",
       "      <td>29.08</td>\n",
       "      <td>3.58</td>\n",
       "      <td>6.81</td>\n",
       "      <td>0.77</td>\n",
       "      <td>40.24</td>\n",
       "    </tr>\n",
       "    <tr>\n",
       "      <th>2</th>\n",
       "      <td>Mario Kart Wii</td>\n",
       "      <td>Wii</td>\n",
       "      <td>Racing</td>\n",
       "      <td>15.68</td>\n",
       "      <td>12.76</td>\n",
       "      <td>3.79</td>\n",
       "      <td>3.29</td>\n",
       "      <td>35.52</td>\n",
       "    </tr>\n",
       "    <tr>\n",
       "      <th>3</th>\n",
       "      <td>Wii Sports Resort</td>\n",
       "      <td>Wii</td>\n",
       "      <td>Sports</td>\n",
       "      <td>15.61</td>\n",
       "      <td>10.93</td>\n",
       "      <td>3.28</td>\n",
       "      <td>2.95</td>\n",
       "      <td>32.77</td>\n",
       "    </tr>\n",
       "    <tr>\n",
       "      <th>4</th>\n",
       "      <td>Pokemon Red/Pokemon Blue</td>\n",
       "      <td>GB</td>\n",
       "      <td>Role-Playing</td>\n",
       "      <td>11.27</td>\n",
       "      <td>8.89</td>\n",
       "      <td>10.22</td>\n",
       "      <td>1.00</td>\n",
       "      <td>31.37</td>\n",
       "    </tr>\n",
       "    <tr>\n",
       "      <th>5</th>\n",
       "      <td>Tetris</td>\n",
       "      <td>GB</td>\n",
       "      <td>Puzzle</td>\n",
       "      <td>23.20</td>\n",
       "      <td>2.26</td>\n",
       "      <td>4.22</td>\n",
       "      <td>0.58</td>\n",
       "      <td>30.26</td>\n",
       "    </tr>\n",
       "    <tr>\n",
       "      <th>6</th>\n",
       "      <td>New Super Mario Bros.</td>\n",
       "      <td>DS</td>\n",
       "      <td>Platform</td>\n",
       "      <td>11.28</td>\n",
       "      <td>9.14</td>\n",
       "      <td>6.50</td>\n",
       "      <td>2.88</td>\n",
       "      <td>29.80</td>\n",
       "    </tr>\n",
       "    <tr>\n",
       "      <th>7</th>\n",
       "      <td>Wii Play</td>\n",
       "      <td>Wii</td>\n",
       "      <td>Misc</td>\n",
       "      <td>13.96</td>\n",
       "      <td>9.18</td>\n",
       "      <td>2.93</td>\n",
       "      <td>2.84</td>\n",
       "      <td>28.92</td>\n",
       "    </tr>\n",
       "    <tr>\n",
       "      <th>8</th>\n",
       "      <td>New Super Mario Bros. Wii</td>\n",
       "      <td>Wii</td>\n",
       "      <td>Platform</td>\n",
       "      <td>14.44</td>\n",
       "      <td>6.94</td>\n",
       "      <td>4.70</td>\n",
       "      <td>2.24</td>\n",
       "      <td>28.32</td>\n",
       "    </tr>\n",
       "    <tr>\n",
       "      <th>9</th>\n",
       "      <td>Duck Hunt</td>\n",
       "      <td>NES</td>\n",
       "      <td>Shooter</td>\n",
       "      <td>26.93</td>\n",
       "      <td>0.63</td>\n",
       "      <td>0.28</td>\n",
       "      <td>0.47</td>\n",
       "      <td>28.31</td>\n",
       "    </tr>\n",
       "    <tr>\n",
       "      <th>10</th>\n",
       "      <td>Nintendogs</td>\n",
       "      <td>DS</td>\n",
       "      <td>Simulation</td>\n",
       "      <td>9.05</td>\n",
       "      <td>10.95</td>\n",
       "      <td>1.93</td>\n",
       "      <td>2.74</td>\n",
       "      <td>24.67</td>\n",
       "    </tr>\n",
       "    <tr>\n",
       "      <th>11</th>\n",
       "      <td>Mario Kart DS</td>\n",
       "      <td>DS</td>\n",
       "      <td>Racing</td>\n",
       "      <td>9.71</td>\n",
       "      <td>7.47</td>\n",
       "      <td>4.13</td>\n",
       "      <td>1.90</td>\n",
       "      <td>23.21</td>\n",
       "    </tr>\n",
       "    <tr>\n",
       "      <th>12</th>\n",
       "      <td>Pokemon Gold/Pokemon Silver</td>\n",
       "      <td>GB</td>\n",
       "      <td>Role-Playing</td>\n",
       "      <td>9.00</td>\n",
       "      <td>6.18</td>\n",
       "      <td>7.20</td>\n",
       "      <td>0.71</td>\n",
       "      <td>23.10</td>\n",
       "    </tr>\n",
       "    <tr>\n",
       "      <th>13</th>\n",
       "      <td>Wii Fit</td>\n",
       "      <td>Wii</td>\n",
       "      <td>Sports</td>\n",
       "      <td>8.92</td>\n",
       "      <td>8.03</td>\n",
       "      <td>3.60</td>\n",
       "      <td>2.15</td>\n",
       "      <td>22.70</td>\n",
       "    </tr>\n",
       "    <tr>\n",
       "      <th>14</th>\n",
       "      <td>Kinect Adventures!</td>\n",
       "      <td>X360</td>\n",
       "      <td>Misc</td>\n",
       "      <td>15.00</td>\n",
       "      <td>4.89</td>\n",
       "      <td>0.24</td>\n",
       "      <td>1.69</td>\n",
       "      <td>21.81</td>\n",
       "    </tr>\n",
       "    <tr>\n",
       "      <th>15</th>\n",
       "      <td>Wii Fit Plus</td>\n",
       "      <td>Wii</td>\n",
       "      <td>Sports</td>\n",
       "      <td>9.01</td>\n",
       "      <td>8.49</td>\n",
       "      <td>2.53</td>\n",
       "      <td>1.77</td>\n",
       "      <td>21.79</td>\n",
       "    </tr>\n",
       "    <tr>\n",
       "      <th>16</th>\n",
       "      <td>Grand Theft Auto V</td>\n",
       "      <td>PS3</td>\n",
       "      <td>Action</td>\n",
       "      <td>7.02</td>\n",
       "      <td>9.09</td>\n",
       "      <td>0.98</td>\n",
       "      <td>3.96</td>\n",
       "      <td>21.04</td>\n",
       "    </tr>\n",
       "    <tr>\n",
       "      <th>17</th>\n",
       "      <td>Grand Theft Auto: San Andreas</td>\n",
       "      <td>PS2</td>\n",
       "      <td>Action</td>\n",
       "      <td>9.43</td>\n",
       "      <td>0.40</td>\n",
       "      <td>0.41</td>\n",
       "      <td>10.57</td>\n",
       "      <td>20.81</td>\n",
       "    </tr>\n",
       "    <tr>\n",
       "      <th>18</th>\n",
       "      <td>Super Mario World</td>\n",
       "      <td>SNES</td>\n",
       "      <td>Platform</td>\n",
       "      <td>12.78</td>\n",
       "      <td>3.75</td>\n",
       "      <td>3.54</td>\n",
       "      <td>0.55</td>\n",
       "      <td>20.61</td>\n",
       "    </tr>\n",
       "    <tr>\n",
       "      <th>19</th>\n",
       "      <td>Brain Age: Train Your Brain in Minutes a Day</td>\n",
       "      <td>DS</td>\n",
       "      <td>Misc</td>\n",
       "      <td>4.74</td>\n",
       "      <td>9.20</td>\n",
       "      <td>4.16</td>\n",
       "      <td>2.04</td>\n",
       "      <td>20.15</td>\n",
       "    </tr>\n",
       "    <tr>\n",
       "      <th>20</th>\n",
       "      <td>Pokemon Diamond/Pokemon Pearl</td>\n",
       "      <td>DS</td>\n",
       "      <td>Role-Playing</td>\n",
       "      <td>6.38</td>\n",
       "      <td>4.46</td>\n",
       "      <td>6.04</td>\n",
       "      <td>1.36</td>\n",
       "      <td>18.25</td>\n",
       "    </tr>\n",
       "    <tr>\n",
       "      <th>21</th>\n",
       "      <td>Super Mario Land</td>\n",
       "      <td>GB</td>\n",
       "      <td>Platform</td>\n",
       "      <td>10.83</td>\n",
       "      <td>2.71</td>\n",
       "      <td>4.18</td>\n",
       "      <td>0.42</td>\n",
       "      <td>18.14</td>\n",
       "    </tr>\n",
       "    <tr>\n",
       "      <th>22</th>\n",
       "      <td>Super Mario Bros. 3</td>\n",
       "      <td>NES</td>\n",
       "      <td>Platform</td>\n",
       "      <td>9.54</td>\n",
       "      <td>3.44</td>\n",
       "      <td>3.84</td>\n",
       "      <td>0.46</td>\n",
       "      <td>17.28</td>\n",
       "    </tr>\n",
       "    <tr>\n",
       "      <th>23</th>\n",
       "      <td>Grand Theft Auto V</td>\n",
       "      <td>X360</td>\n",
       "      <td>Action</td>\n",
       "      <td>9.66</td>\n",
       "      <td>5.14</td>\n",
       "      <td>0.06</td>\n",
       "      <td>1.41</td>\n",
       "      <td>16.27</td>\n",
       "    </tr>\n",
       "    <tr>\n",
       "      <th>24</th>\n",
       "      <td>Grand Theft Auto: Vice City</td>\n",
       "      <td>PS2</td>\n",
       "      <td>Action</td>\n",
       "      <td>8.41</td>\n",
       "      <td>5.49</td>\n",
       "      <td>0.47</td>\n",
       "      <td>1.78</td>\n",
       "      <td>16.15</td>\n",
       "    </tr>\n",
       "    <tr>\n",
       "      <th>25</th>\n",
       "      <td>Pokemon Ruby/Pokemon Sapphire</td>\n",
       "      <td>GBA</td>\n",
       "      <td>Role-Playing</td>\n",
       "      <td>6.06</td>\n",
       "      <td>3.90</td>\n",
       "      <td>5.38</td>\n",
       "      <td>0.50</td>\n",
       "      <td>15.85</td>\n",
       "    </tr>\n",
       "    <tr>\n",
       "      <th>26</th>\n",
       "      <td>Brain Age 2: More Training in Minutes a Day</td>\n",
       "      <td>DS</td>\n",
       "      <td>Puzzle</td>\n",
       "      <td>3.43</td>\n",
       "      <td>5.35</td>\n",
       "      <td>5.32</td>\n",
       "      <td>1.18</td>\n",
       "      <td>15.29</td>\n",
       "    </tr>\n",
       "    <tr>\n",
       "      <th>27</th>\n",
       "      <td>Pokemon Black/Pokemon White</td>\n",
       "      <td>DS</td>\n",
       "      <td>Role-Playing</td>\n",
       "      <td>5.51</td>\n",
       "      <td>3.17</td>\n",
       "      <td>5.65</td>\n",
       "      <td>0.80</td>\n",
       "      <td>15.14</td>\n",
       "    </tr>\n",
       "    <tr>\n",
       "      <th>28</th>\n",
       "      <td>Gran Turismo 3: A-Spec</td>\n",
       "      <td>PS2</td>\n",
       "      <td>Racing</td>\n",
       "      <td>6.85</td>\n",
       "      <td>5.09</td>\n",
       "      <td>1.87</td>\n",
       "      <td>1.16</td>\n",
       "      <td>14.98</td>\n",
       "    </tr>\n",
       "    <tr>\n",
       "      <th>29</th>\n",
       "      <td>Call of Duty: Modern Warfare 3</td>\n",
       "      <td>X360</td>\n",
       "      <td>Shooter</td>\n",
       "      <td>9.04</td>\n",
       "      <td>4.24</td>\n",
       "      <td>0.13</td>\n",
       "      <td>1.32</td>\n",
       "      <td>14.73</td>\n",
       "    </tr>\n",
       "    <tr>\n",
       "      <th>30</th>\n",
       "      <td>Pokémon Yellow: Special Pikachu Edition</td>\n",
       "      <td>GB</td>\n",
       "      <td>Role-Playing</td>\n",
       "      <td>5.89</td>\n",
       "      <td>5.04</td>\n",
       "      <td>3.12</td>\n",
       "      <td>0.59</td>\n",
       "      <td>14.64</td>\n",
       "    </tr>\n",
       "    <tr>\n",
       "      <th>31</th>\n",
       "      <td>Call of Duty: Black Ops 3</td>\n",
       "      <td>PS4</td>\n",
       "      <td>Shooter</td>\n",
       "      <td>6.03</td>\n",
       "      <td>5.86</td>\n",
       "      <td>0.36</td>\n",
       "      <td>2.38</td>\n",
       "      <td>14.63</td>\n",
       "    </tr>\n",
       "    <tr>\n",
       "      <th>32</th>\n",
       "      <td>Call of Duty: Black Ops</td>\n",
       "      <td>X360</td>\n",
       "      <td>Shooter</td>\n",
       "      <td>9.70</td>\n",
       "      <td>3.68</td>\n",
       "      <td>0.11</td>\n",
       "      <td>1.13</td>\n",
       "      <td>14.61</td>\n",
       "    </tr>\n",
       "    <tr>\n",
       "      <th>33</th>\n",
       "      <td>Pokemon X/Pokemon Y</td>\n",
       "      <td>3DS</td>\n",
       "      <td>Role-Playing</td>\n",
       "      <td>5.28</td>\n",
       "      <td>4.19</td>\n",
       "      <td>4.35</td>\n",
       "      <td>0.78</td>\n",
       "      <td>14.60</td>\n",
       "    </tr>\n",
       "    <tr>\n",
       "      <th>34</th>\n",
       "      <td>Call of Duty: Black Ops II</td>\n",
       "      <td>PS3</td>\n",
       "      <td>Shooter</td>\n",
       "      <td>4.99</td>\n",
       "      <td>5.73</td>\n",
       "      <td>0.65</td>\n",
       "      <td>2.42</td>\n",
       "      <td>13.79</td>\n",
       "    </tr>\n",
       "    <tr>\n",
       "      <th>35</th>\n",
       "      <td>Call of Duty: Black Ops II</td>\n",
       "      <td>X360</td>\n",
       "      <td>Shooter</td>\n",
       "      <td>8.25</td>\n",
       "      <td>4.24</td>\n",
       "      <td>0.07</td>\n",
       "      <td>1.12</td>\n",
       "      <td>13.67</td>\n",
       "    </tr>\n",
       "    <tr>\n",
       "      <th>36</th>\n",
       "      <td>Call of Duty: Modern Warfare 2</td>\n",
       "      <td>X360</td>\n",
       "      <td>Shooter</td>\n",
       "      <td>8.52</td>\n",
       "      <td>3.59</td>\n",
       "      <td>0.08</td>\n",
       "      <td>1.28</td>\n",
       "      <td>13.47</td>\n",
       "    </tr>\n",
       "    <tr>\n",
       "      <th>37</th>\n",
       "      <td>Call of Duty: Modern Warfare 3</td>\n",
       "      <td>PS3</td>\n",
       "      <td>Shooter</td>\n",
       "      <td>5.54</td>\n",
       "      <td>5.73</td>\n",
       "      <td>0.49</td>\n",
       "      <td>1.57</td>\n",
       "      <td>13.32</td>\n",
       "    </tr>\n",
       "    <tr>\n",
       "      <th>38</th>\n",
       "      <td>Grand Theft Auto III</td>\n",
       "      <td>PS2</td>\n",
       "      <td>Action</td>\n",
       "      <td>6.99</td>\n",
       "      <td>4.51</td>\n",
       "      <td>0.30</td>\n",
       "      <td>1.30</td>\n",
       "      <td>13.10</td>\n",
       "    </tr>\n",
       "    <tr>\n",
       "      <th>39</th>\n",
       "      <td>Super Smash Bros. Brawl</td>\n",
       "      <td>Wii</td>\n",
       "      <td>Fighting</td>\n",
       "      <td>6.62</td>\n",
       "      <td>2.55</td>\n",
       "      <td>2.66</td>\n",
       "      <td>1.01</td>\n",
       "      <td>12.84</td>\n",
       "    </tr>\n",
       "    <tr>\n",
       "      <th>40</th>\n",
       "      <td>Mario Kart 7</td>\n",
       "      <td>3DS</td>\n",
       "      <td>Racing</td>\n",
       "      <td>5.03</td>\n",
       "      <td>4.02</td>\n",
       "      <td>2.69</td>\n",
       "      <td>0.91</td>\n",
       "      <td>12.66</td>\n",
       "    </tr>\n",
       "    <tr>\n",
       "      <th>41</th>\n",
       "      <td>Call of Duty: Black Ops</td>\n",
       "      <td>PS3</td>\n",
       "      <td>Shooter</td>\n",
       "      <td>5.99</td>\n",
       "      <td>4.37</td>\n",
       "      <td>0.48</td>\n",
       "      <td>1.79</td>\n",
       "      <td>12.63</td>\n",
       "    </tr>\n",
       "    <tr>\n",
       "      <th>42</th>\n",
       "      <td>Grand Theft Auto V</td>\n",
       "      <td>PS4</td>\n",
       "      <td>Action</td>\n",
       "      <td>3.96</td>\n",
       "      <td>6.31</td>\n",
       "      <td>0.38</td>\n",
       "      <td>1.97</td>\n",
       "      <td>12.61</td>\n",
       "    </tr>\n",
       "    <tr>\n",
       "      <th>43</th>\n",
       "      <td>Animal Crossing: Wild World</td>\n",
       "      <td>DS</td>\n",
       "      <td>Simulation</td>\n",
       "      <td>2.50</td>\n",
       "      <td>3.45</td>\n",
       "      <td>5.33</td>\n",
       "      <td>0.86</td>\n",
       "      <td>12.13</td>\n",
       "    </tr>\n",
       "    <tr>\n",
       "      <th>44</th>\n",
       "      <td>Halo 3</td>\n",
       "      <td>X360</td>\n",
       "      <td>Shooter</td>\n",
       "      <td>7.97</td>\n",
       "      <td>2.81</td>\n",
       "      <td>0.13</td>\n",
       "      <td>1.21</td>\n",
       "      <td>12.12</td>\n",
       "    </tr>\n",
       "    <tr>\n",
       "      <th>45</th>\n",
       "      <td>Super Mario 64</td>\n",
       "      <td>N64</td>\n",
       "      <td>Platform</td>\n",
       "      <td>6.91</td>\n",
       "      <td>2.85</td>\n",
       "      <td>1.91</td>\n",
       "      <td>0.23</td>\n",
       "      <td>11.89</td>\n",
       "    </tr>\n",
       "    <tr>\n",
       "      <th>46</th>\n",
       "      <td>Pokemon HeartGold/Pokemon SoulSilver</td>\n",
       "      <td>DS</td>\n",
       "      <td>Action</td>\n",
       "      <td>4.34</td>\n",
       "      <td>2.71</td>\n",
       "      <td>3.96</td>\n",
       "      <td>0.76</td>\n",
       "      <td>11.77</td>\n",
       "    </tr>\n",
       "    <tr>\n",
       "      <th>47</th>\n",
       "      <td>Pokemon Omega Ruby/Pokemon Alpha Sapphire</td>\n",
       "      <td>3DS</td>\n",
       "      <td>Role-Playing</td>\n",
       "      <td>4.35</td>\n",
       "      <td>3.49</td>\n",
       "      <td>3.10</td>\n",
       "      <td>0.74</td>\n",
       "      <td>11.68</td>\n",
       "    </tr>\n",
       "    <tr>\n",
       "      <th>48</th>\n",
       "      <td>Gran Turismo 4</td>\n",
       "      <td>PS2</td>\n",
       "      <td>Racing</td>\n",
       "      <td>3.01</td>\n",
       "      <td>0.01</td>\n",
       "      <td>1.10</td>\n",
       "      <td>7.53</td>\n",
       "      <td>11.66</td>\n",
       "    </tr>\n",
       "    <tr>\n",
       "      <th>49</th>\n",
       "      <td>Super Mario Galaxy</td>\n",
       "      <td>Wii</td>\n",
       "      <td>Platform</td>\n",
       "      <td>6.06</td>\n",
       "      <td>3.35</td>\n",
       "      <td>1.20</td>\n",
       "      <td>0.74</td>\n",
       "      <td>11.35</td>\n",
       "    </tr>\n",
       "  </tbody>\n",
       "</table>\n",
       "</div>"
      ],
      "text/plain": [
       "                                            NOME PLATAFORMA        GENERO  \\\n",
       "0                                     Wii Sports        Wii        Sports   \n",
       "1                              Super Mario Bros.        NES      Platform   \n",
       "2                                 Mario Kart Wii        Wii        Racing   \n",
       "3                              Wii Sports Resort        Wii        Sports   \n",
       "4                       Pokemon Red/Pokemon Blue         GB  Role-Playing   \n",
       "5                                         Tetris         GB        Puzzle   \n",
       "6                          New Super Mario Bros.         DS      Platform   \n",
       "7                                       Wii Play        Wii          Misc   \n",
       "8                      New Super Mario Bros. Wii        Wii      Platform   \n",
       "9                                      Duck Hunt        NES       Shooter   \n",
       "10                                    Nintendogs         DS    Simulation   \n",
       "11                                 Mario Kart DS         DS        Racing   \n",
       "12                   Pokemon Gold/Pokemon Silver         GB  Role-Playing   \n",
       "13                                       Wii Fit        Wii        Sports   \n",
       "14                            Kinect Adventures!       X360          Misc   \n",
       "15                                  Wii Fit Plus        Wii        Sports   \n",
       "16                            Grand Theft Auto V        PS3        Action   \n",
       "17                 Grand Theft Auto: San Andreas        PS2        Action   \n",
       "18                             Super Mario World       SNES      Platform   \n",
       "19  Brain Age: Train Your Brain in Minutes a Day         DS          Misc   \n",
       "20                 Pokemon Diamond/Pokemon Pearl         DS  Role-Playing   \n",
       "21                              Super Mario Land         GB      Platform   \n",
       "22                           Super Mario Bros. 3        NES      Platform   \n",
       "23                            Grand Theft Auto V       X360        Action   \n",
       "24                   Grand Theft Auto: Vice City        PS2        Action   \n",
       "25                 Pokemon Ruby/Pokemon Sapphire        GBA  Role-Playing   \n",
       "26   Brain Age 2: More Training in Minutes a Day         DS        Puzzle   \n",
       "27                   Pokemon Black/Pokemon White         DS  Role-Playing   \n",
       "28                        Gran Turismo 3: A-Spec        PS2        Racing   \n",
       "29                Call of Duty: Modern Warfare 3       X360       Shooter   \n",
       "30       Pokémon Yellow: Special Pikachu Edition         GB  Role-Playing   \n",
       "31                     Call of Duty: Black Ops 3        PS4       Shooter   \n",
       "32                       Call of Duty: Black Ops       X360       Shooter   \n",
       "33                           Pokemon X/Pokemon Y        3DS  Role-Playing   \n",
       "34                    Call of Duty: Black Ops II        PS3       Shooter   \n",
       "35                    Call of Duty: Black Ops II       X360       Shooter   \n",
       "36                Call of Duty: Modern Warfare 2       X360       Shooter   \n",
       "37                Call of Duty: Modern Warfare 3        PS3       Shooter   \n",
       "38                          Grand Theft Auto III        PS2        Action   \n",
       "39                       Super Smash Bros. Brawl        Wii      Fighting   \n",
       "40                                  Mario Kart 7        3DS        Racing   \n",
       "41                       Call of Duty: Black Ops        PS3       Shooter   \n",
       "42                            Grand Theft Auto V        PS4        Action   \n",
       "43                   Animal Crossing: Wild World         DS    Simulation   \n",
       "44                                        Halo 3       X360       Shooter   \n",
       "45                                Super Mario 64        N64      Platform   \n",
       "46          Pokemon HeartGold/Pokemon SoulSilver         DS        Action   \n",
       "47     Pokemon Omega Ruby/Pokemon Alpha Sapphire        3DS  Role-Playing   \n",
       "48                                Gran Turismo 4        PS2        Racing   \n",
       "49                            Super Mario Galaxy        Wii      Platform   \n",
       "\n",
       "    VENDAS(AN)  VENDAS(EU)  VENDAS(JP)  VENDAS(Outros)  VENDAS(GLOBAL)  \n",
       "0        41.36       28.96        3.77            8.45           82.53  \n",
       "1        29.08        3.58        6.81            0.77           40.24  \n",
       "2        15.68       12.76        3.79            3.29           35.52  \n",
       "3        15.61       10.93        3.28            2.95           32.77  \n",
       "4        11.27        8.89       10.22            1.00           31.37  \n",
       "5        23.20        2.26        4.22            0.58           30.26  \n",
       "6        11.28        9.14        6.50            2.88           29.80  \n",
       "7        13.96        9.18        2.93            2.84           28.92  \n",
       "8        14.44        6.94        4.70            2.24           28.32  \n",
       "9        26.93        0.63        0.28            0.47           28.31  \n",
       "10        9.05       10.95        1.93            2.74           24.67  \n",
       "11        9.71        7.47        4.13            1.90           23.21  \n",
       "12        9.00        6.18        7.20            0.71           23.10  \n",
       "13        8.92        8.03        3.60            2.15           22.70  \n",
       "14       15.00        4.89        0.24            1.69           21.81  \n",
       "15        9.01        8.49        2.53            1.77           21.79  \n",
       "16        7.02        9.09        0.98            3.96           21.04  \n",
       "17        9.43        0.40        0.41           10.57           20.81  \n",
       "18       12.78        3.75        3.54            0.55           20.61  \n",
       "19        4.74        9.20        4.16            2.04           20.15  \n",
       "20        6.38        4.46        6.04            1.36           18.25  \n",
       "21       10.83        2.71        4.18            0.42           18.14  \n",
       "22        9.54        3.44        3.84            0.46           17.28  \n",
       "23        9.66        5.14        0.06            1.41           16.27  \n",
       "24        8.41        5.49        0.47            1.78           16.15  \n",
       "25        6.06        3.90        5.38            0.50           15.85  \n",
       "26        3.43        5.35        5.32            1.18           15.29  \n",
       "27        5.51        3.17        5.65            0.80           15.14  \n",
       "28        6.85        5.09        1.87            1.16           14.98  \n",
       "29        9.04        4.24        0.13            1.32           14.73  \n",
       "30        5.89        5.04        3.12            0.59           14.64  \n",
       "31        6.03        5.86        0.36            2.38           14.63  \n",
       "32        9.70        3.68        0.11            1.13           14.61  \n",
       "33        5.28        4.19        4.35            0.78           14.60  \n",
       "34        4.99        5.73        0.65            2.42           13.79  \n",
       "35        8.25        4.24        0.07            1.12           13.67  \n",
       "36        8.52        3.59        0.08            1.28           13.47  \n",
       "37        5.54        5.73        0.49            1.57           13.32  \n",
       "38        6.99        4.51        0.30            1.30           13.10  \n",
       "39        6.62        2.55        2.66            1.01           12.84  \n",
       "40        5.03        4.02        2.69            0.91           12.66  \n",
       "41        5.99        4.37        0.48            1.79           12.63  \n",
       "42        3.96        6.31        0.38            1.97           12.61  \n",
       "43        2.50        3.45        5.33            0.86           12.13  \n",
       "44        7.97        2.81        0.13            1.21           12.12  \n",
       "45        6.91        2.85        1.91            0.23           11.89  \n",
       "46        4.34        2.71        3.96            0.76           11.77  \n",
       "47        4.35        3.49        3.10            0.74           11.68  \n",
       "48        3.01        0.01        1.10            7.53           11.66  \n",
       "49        6.06        3.35        1.20            0.74           11.35  "
      ]
     },
     "execution_count": 9,
     "metadata": {},
     "output_type": "execute_result"
    }
   ],
   "source": [
    "df.drop(columns=['soma_total'], inplace=True)\n",
    "\n",
    "df.head(50)"
   ]
  },
  {
   "cell_type": "markdown",
   "metadata": {
    "id": "1A-Zy7aefzNI"
   },
   "source": [
    "Vamos começar com perguntas iniciais:\n",
    "\n",
    "Qual a média das notas de redações das pessoas que estudam em escola pública e privada? Qual a idade máxima? Quantos valores únicos possuímos para a coluna NOTA_REDACAO?"
   ]
  },
  {
   "cell_type": "code",
   "execution_count": 10,
   "metadata": {
    "colab": {
     "base_uri": "https://localhost:8080/"
    },
    "executionInfo": {
     "elapsed": 269,
     "status": "ok",
     "timestamp": 1663185008364,
     "user": {
      "displayName": "Mary Camila",
      "userId": "10145587910349238787"
     },
     "user_tz": 180
    },
    "id": "OhUllE9Vf7DP",
    "outputId": "8ece20b2-13cd-4cf9-a064-3bc8d0639aeb"
   },
   "outputs": [
    {
     "data": {
      "text/plain": [
       "0.5334617455285808"
      ]
     },
     "execution_count": 10,
     "metadata": {},
     "output_type": "execute_result"
    }
   ],
   "source": [
    "# Media de idade\n",
    "df[\"VENDAS(GLOBAL)\"].mean()"
   ]
  },
  {
   "cell_type": "code",
   "execution_count": 66,
   "metadata": {
    "colab": {
     "base_uri": "https://localhost:8080/"
    },
    "executionInfo": {
     "elapsed": 279,
     "status": "ok",
     "timestamp": 1663185008905,
     "user": {
      "displayName": "Mary Camila",
      "userId": "10145587910349238787"
     },
     "user_tz": 180
    },
    "id": "K5fXUfbhf8fP",
    "outputId": "0e23c397-4b75-48ba-c51b-15dc1d5c2b2a"
   },
   "outputs": [
    {
     "data": {
      "text/plain": [
       "91"
      ]
     },
     "execution_count": 66,
     "metadata": {},
     "output_type": "execute_result"
    }
   ],
   "source": [
    "# Idade maxima\n",
    "df[\"IDADE\"].max()"
   ]
  },
  {
   "cell_type": "code",
   "execution_count": 36,
   "metadata": {
    "colab": {
     "base_uri": "https://localhost:8080/"
    },
    "executionInfo": {
     "elapsed": 4,
     "status": "ok",
     "timestamp": 1663185009486,
     "user": {
      "displayName": "Mary Camila",
      "userId": "10145587910349238787"
     },
     "user_tz": 180
    },
    "id": "YTPADDCzf-Fm",
    "outputId": "a1b3eeb1-c6d9-4ff2-8d27-2e0c0ee89db9"
   },
   "outputs": [
    {
     "data": {
      "text/plain": [
       "3"
      ]
     },
     "execution_count": 36,
     "metadata": {},
     "output_type": "execute_result"
    }
   ],
   "source": [
    "# Valores únicos para BAIRRO_ASS\n",
    "len(df.groupby([\"ESCOLA\"]).size())"
   ]
  },
  {
   "cell_type": "code",
   "execution_count": 20,
   "metadata": {
    "colab": {
     "base_uri": "https://localhost:8080/"
    },
    "executionInfo": {
     "elapsed": 285,
     "status": "ok",
     "timestamp": 1663185014033,
     "user": {
      "displayName": "Mary Camila",
      "userId": "10145587910349238787"
     },
     "user_tz": 180
    },
    "id": "wUuGCd8chVyW",
    "outputId": "4763603b-7c11-4a05-82a1-9e7fbe21faa9"
   },
   "outputs": [
    {
     "data": {
      "text/plain": [
       "50"
      ]
     },
     "execution_count": 20,
     "metadata": {},
     "output_type": "execute_result"
    }
   ],
   "source": [
    "# Valores únicos para SUBDIVISAO\n",
    "len(df.groupby([\"NOTA_REDACAO\"]).size())"
   ]
  },
  {
   "cell_type": "markdown",
   "metadata": {
    "id": "YZVsnquogCDw"
   },
   "source": [
    "#### Visualização da distribuição das variáveis\n",
    "\n",
    "Existe alguma diferença na distribuição das idades entre escola pública e privada?"
   ]
  },
  {
   "cell_type": "code",
   "execution_count": 69,
   "metadata": {
    "colab": {
     "base_uri": "https://localhost:8080/",
     "height": 285
    },
    "executionInfo": {
     "elapsed": 822,
     "status": "ok",
     "timestamp": 1663185016907,
     "user": {
      "displayName": "Mary Camila",
      "userId": "10145587910349238787"
     },
     "user_tz": 180
    },
    "id": "W14FnLeGgAV_",
    "outputId": "c4f69992-b705-4e7a-d30c-813753b75736"
   },
   "outputs": [
    {
     "data": {
      "text/plain": [
       "<AxesSubplot:>"
      ]
     },
     "execution_count": 69,
     "metadata": {},
     "output_type": "execute_result"
    },
    {
     "data": {
      "image/png": "[encoded data removed]",
      "text/plain": [
       "<Figure size 432x288 with 1 Axes>"
      ]
     },
     "metadata": {
      "needs_background": "light"
     },
     "output_type": "display_data"
    }
   ],
   "source": [
    "# Resposta para distribuição para escola pública\n",
    "df_esc_pub = df[df['MUNICIPIO_RESIDENCIA'] == 'Óleo']\n",
    "df_esc_pub[\"NOTA_REDACAO\"].hist(bins=20)      "
   ]
  },
  {
   "cell_type": "code",
   "execution_count": 30,
   "metadata": {
    "colab": {
     "base_uri": "https://localhost:8080/",
     "height": 285
    },
    "executionInfo": {
     "elapsed": 418,
     "status": "ok",
     "timestamp": 1663185017607,
     "user": {
      "displayName": "Mary Camila",
      "userId": "10145587910349238787"
     },
     "user_tz": 180
    },
    "id": "tSMR1JxNgIo-",
    "outputId": "c8332d37-342a-4e31-9a09-8f8e0b078d7a"
   },
   "outputs": [
    {
     "data": {
      "text/plain": [
       "<AxesSubplot:ylabel='Density'>"
      ]
     },
     "execution_count": 30,
     "metadata": {},
     "output_type": "execute_result"
    },
    {
     "data": {
      "image/png": "[encoded data removed]",
      "text/plain": [
       "<Figure size 432x288 with 1 Axes>"
      ]
     },
     "metadata": {
      "needs_background": "light"
     },
     "output_type": "display_data"
    }
   ],
   "source": [
    "df_esc_pub[\"NOTA_REDACAO\"].plot.kde()"
   ]
  },
  {
   "cell_type": "code",
   "execution_count": 41,
   "metadata": {
    "colab": {
     "base_uri": "https://localhost:8080/",
     "height": 285
    },
    "executionInfo": {
     "elapsed": 451,
     "status": "ok",
     "timestamp": 1663185019321,
     "user": {
      "displayName": "Mary Camila",
      "userId": "10145587910349238787"
     },
     "user_tz": 180
    },
    "id": "rtFhXbiqgLh-",
    "outputId": "beac60c0-1a97-4152-de8a-c5708b326c5b"
   },
   "outputs": [
    {
     "data": {
      "text/plain": [
       "<AxesSubplot:>"
      ]
     },
     "execution_count": 41,
     "metadata": {},
     "output_type": "execute_result"
    },
    {
     "data": {
      "image/png": "[encoded data removed]",
      "text/plain": [
       "<Figure size 432x288 with 1 Axes>"
      ]
     },
     "metadata": {
      "needs_background": "light"
     },
     "output_type": "display_data"
    }
   ],
   "source": [
    "# Resposta para distribuição para escolas privadas\n",
    "df_sex_mas = df[df['ESCOLA'] == 'privada']\n",
    "df_sex_mas[\"NOTA_REDACAO\"].hist(bins=10)"
   ]
  },
  {
   "cell_type": "code",
   "execution_count": 32,
   "metadata": {
    "colab": {
     "base_uri": "https://localhost:8080/",
     "height": 285
    },
    "executionInfo": {
     "elapsed": 322,
     "status": "ok",
     "timestamp": 1663185020909,
     "user": {
      "displayName": "Mary Camila",
      "userId": "10145587910349238787"
     },
     "user_tz": 180
    },
    "id": "LzjfplQogNV2",
    "outputId": "82878559-48ea-4303-f543-28190a2eccd6"
   },
   "outputs": [
    {
     "data": {
      "text/plain": [
       "<AxesSubplot:ylabel='Density'>"
      ]
     },
     "execution_count": 32,
     "metadata": {},
     "output_type": "execute_result"
    },
    {
     "data": {
      "image/png": "[encoded data removed]",
      "text/plain": [
       "<Figure size 432x288 with 1 Axes>"
      ]
     },
     "metadata": {
      "needs_background": "light"
     },
     "output_type": "display_data"
    }
   ],
   "source": [
    "df_esc_pub[\"NOTA_REDACAO\"].plot.kde()"
   ]
  },
  {
   "cell_type": "markdown",
   "metadata": {
    "id": "zLCW2aIbgabI"
   },
   "source": [
    "Utilizando o seaborn para uma melhor visualização"
   ]
  },
  {
   "cell_type": "code",
   "execution_count": 42,
   "metadata": {
    "colab": {
     "base_uri": "https://localhost:8080/",
     "height": 302
    },
    "executionInfo": {
     "elapsed": 754,
     "status": "ok",
     "timestamp": 1663185024474,
     "user": {
      "displayName": "Mary Camila",
      "userId": "10145587910349238787"
     },
     "user_tz": 180
    },
    "id": "sgXf2SNLgaMA",
    "outputId": "865a59ff-0741-471d-da04-f3ad9ddf46cd"
   },
   "outputs": [
    {
     "data": {
      "text/plain": [
       "<AxesSubplot:xlabel='NOTA_REDACAO', ylabel='Count'>"
      ]
     },
     "execution_count": 42,
     "metadata": {},
     "output_type": "execute_result"
    },
    {
     "data": {
      "image/png": "[encoded data removed]",
      "text/plain": [
       "<Figure size 432x288 with 1 Axes>"
      ]
     },
     "metadata": {
      "needs_background": "light"
     },
     "output_type": "display_data"
    }
   ],
   "source": [
    "sns.histplot(data=df, x=\"NOTA_REDACAO\", kde=True, hue=\"ESCOLA\")"
   ]
  },
  {
   "cell_type": "code",
   "execution_count": 43,
   "metadata": {
    "colab": {
     "base_uri": "https://localhost:8080/",
     "height": 302
    },
    "executionInfo": {
     "elapsed": 449,
     "status": "ok",
     "timestamp": 1663185025935,
     "user": {
      "displayName": "Mary Camila",
      "userId": "10145587910349238787"
     },
     "user_tz": 180
    },
    "id": "ZGdXwnYxgyDH",
    "outputId": "a4684b75-96d9-4227-fe78-52e6fc157964"
   },
   "outputs": [
    {
     "data": {
      "text/plain": [
       "<AxesSubplot:xlabel='NOTA_REDACAO', ylabel='Count'>"
      ]
     },
     "execution_count": 43,
     "metadata": {},
     "output_type": "execute_result"
    },
    {
     "data": {
      "image/png": "[encoded data removed]",
      "text/plain": [
       "<Figure size 432x288 with 1 Axes>"
      ]
     },
     "metadata": {
      "needs_background": "light"
     },
     "output_type": "display_data"
    }
   ],
   "source": [
    "sns.histplot(data=df, x=\"NOTA_REDACAO\", hue=\"ESCOLA\", multiple=\"dodge\", bins=25)"
   ]
  },
  {
   "cell_type": "markdown",
   "metadata": {
    "id": "IL1Ho63xhAZG"
   },
   "source": [
    "BoxPlot das idades de acordo com o sexo do reclamante para ver se as diferenças ficam mais óbvias."
   ]
  },
  {
   "cell_type": "code",
   "execution_count": 44,
   "metadata": {
    "colab": {
     "base_uri": "https://localhost:8080/",
     "height": 302
    },
    "executionInfo": {
     "elapsed": 869,
     "status": "ok",
     "timestamp": 1663185033025,
     "user": {
      "displayName": "Mary Camila",
      "userId": "10145587910349238787"
     },
     "user_tz": 180
    },
    "id": "xUCPZ9TEhDm_",
    "outputId": "0e71331b-d2dd-4cc9-b976-79ab4a447145"
   },
   "outputs": [
    {
     "data": {
      "text/plain": [
       "<AxesSubplot:xlabel='ESCOLA', ylabel='NOTA_REDACAO'>"
      ]
     },
     "execution_count": 44,
     "metadata": {},
     "output_type": "execute_result"
    },
    {
     "data": {
      "image/png": "[encoded data removed]",
      "text/plain": [
       "<Figure size 432x288 with 1 Axes>"
      ]
     },
     "metadata": {
      "needs_background": "light"
     },
     "output_type": "display_data"
    }
   ],
   "source": [
    "sns.boxplot(data=df, x=\"ESCOLA\", y=\"\")"
   ]
  },
  {
   "cell_type": "markdown",
   "metadata": {
    "id": "6hDaLYjohlGW"
   },
   "source": [
    "### Seleção dos dados\n",
    "\n",
    "Nesta etapa vamos filtrar apenas linhas com os tipos de relamação (assuntos) mais comuns.\n",
    "\n",
    "Fazemos uma contagem dos assuntos mais comuns (usando groupby) e criamos uma lista contendo os assuntos com mais de 60 reclamações. Utilizaremos a lista para uso posterior."
   ]
  },
  {
   "cell_type": "code",
   "execution_count": 77,
   "metadata": {
    "colab": {
     "base_uri": "https://localhost:8080/"
    },
    "executionInfo": {
     "elapsed": 545,
     "status": "ok",
     "timestamp": 1663185035936,
     "user": {
      "displayName": "Mary Camila",
      "userId": "10145587910349238787"
     },
     "user_tz": 180
    },
    "id": "HWVEiTKChrtG",
    "outputId": "8fde115f-fe31-4557-a176-9aebb475d94c"
   },
   "outputs": [
    {
     "data": {
      "text/plain": [
       "['nao_declarado', 'privada', 'publica']"
      ]
     },
     "execution_count": 77,
     "metadata": {},
     "output_type": "execute_result"
    }
   ],
   "source": [
    "df_grouped_top = df.groupby(['ESCOLA']).size().reset_index(name='COUNT')\n",
    "df_grouped_top = df_grouped_top[df_grouped_top['COUNT'] > 60]\n",
    "list_grouped = list(df_grouped_top['ESCOLA'])\n",
    "list_grouped"
   ]
  },
  {
   "cell_type": "markdown",
   "metadata": {
    "id": "FLtQw2C0jfMN"
   },
   "source": [
    "Criando um novo DataFrame contendo apenas reclamações contidas na lista das reclamações mais comuns."
   ]
  },
  {
   "cell_type": "code",
   "execution_count": 76,
   "metadata": {
    "colab": {
     "base_uri": "https://localhost:8080/",
     "height": 641
    },
    "executionInfo": {
     "elapsed": 273,
     "status": "ok",
     "timestamp": 1663185069525,
     "user": {
      "displayName": "Mary Camila",
      "userId": "10145587910349238787"
     },
     "user_tz": 180
    },
    "id": "ct-gzQ1Xjd5x",
    "outputId": "ba2d0ec1-5614-4867-b687-6735cacd5e49"
   },
   "outputs": [
    {
     "data": {
      "text/html": [
       "<div>\n",
       "<style scoped>\n",
       "    .dataframe tbody tr th:only-of-type {\n",
       "        vertical-align: middle;\n",
       "    }\n",
       "\n",
       "    .dataframe tbody tr th {\n",
       "        vertical-align: top;\n",
       "    }\n",
       "\n",
       "    .dataframe thead th {\n",
       "        text-align: right;\n",
       "    }\n",
       "</style>\n",
       "<table border=\"1\" class=\"dataframe\">\n",
       "  <thead>\n",
       "    <tr style=\"text-align: right;\">\n",
       "      <th></th>\n",
       "      <th>INSCRICAO</th>\n",
       "      <th>MUNICIPIO_RESIDENCIA</th>\n",
       "      <th>IDADE</th>\n",
       "      <th>SEXO</th>\n",
       "      <th>ESTADO_CIVIL</th>\n",
       "      <th>COR_RACA</th>\n",
       "      <th>NACIONALIDADE</th>\n",
       "      <th>CONCLUSAO</th>\n",
       "      <th>ESCOLA</th>\n",
       "      <th>TREINEIRO</th>\n",
       "      <th>...</th>\n",
       "      <th>NOTA_MT</th>\n",
       "      <th>LINGUA</th>\n",
       "      <th>STATUS_REDACAO</th>\n",
       "      <th>NOTA_COMP1</th>\n",
       "      <th>NOTA_COMP2</th>\n",
       "      <th>NOTA_COMP3</th>\n",
       "      <th>NOTA_COMP4</th>\n",
       "      <th>NOTA_COMP5</th>\n",
       "      <th>NOTA_REDACAO</th>\n",
       "      <th>Q025</th>\n",
       "    </tr>\n",
       "  </thead>\n",
       "  <tbody>\n",
       "    <tr>\n",
       "      <th>0</th>\n",
       "      <td>1,90E+11</td>\n",
       "      <td>Santa Isabel</td>\n",
       "      <td>22</td>\n",
       "      <td>M</td>\n",
       "      <td>solteiro(a)</td>\n",
       "      <td>parda</td>\n",
       "      <td>brasileiro(a)</td>\n",
       "      <td>ja_concluiu</td>\n",
       "      <td>nao_declarado</td>\n",
       "      <td>nao</td>\n",
       "      <td>...</td>\n",
       "      <td>600.2</td>\n",
       "      <td>ingles</td>\n",
       "      <td>sem_problemas</td>\n",
       "      <td>160.0</td>\n",
       "      <td>200.0</td>\n",
       "      <td>180.0</td>\n",
       "      <td>200.0</td>\n",
       "      <td>200.0</td>\n",
       "      <td>940.0</td>\n",
       "      <td>B</td>\n",
       "    </tr>\n",
       "    <tr>\n",
       "      <th>1</th>\n",
       "      <td>1,90E+11</td>\n",
       "      <td>São Paulo</td>\n",
       "      <td>17</td>\n",
       "      <td>F</td>\n",
       "      <td>solteiro(a)</td>\n",
       "      <td>parda</td>\n",
       "      <td>brasileiro(a)</td>\n",
       "      <td>conclui_2019</td>\n",
       "      <td>privada</td>\n",
       "      <td>nao</td>\n",
       "      <td>...</td>\n",
       "      <td>731.8</td>\n",
       "      <td>ingles</td>\n",
       "      <td>sem_problemas</td>\n",
       "      <td>160.0</td>\n",
       "      <td>120.0</td>\n",
       "      <td>200.0</td>\n",
       "      <td>200.0</td>\n",
       "      <td>200.0</td>\n",
       "      <td>880.0</td>\n",
       "      <td>A</td>\n",
       "    </tr>\n",
       "    <tr>\n",
       "      <th>2</th>\n",
       "      <td>1,90E+11</td>\n",
       "      <td>São Bernardo do Campo</td>\n",
       "      <td>19</td>\n",
       "      <td>M</td>\n",
       "      <td>solteiro(a)</td>\n",
       "      <td>parda</td>\n",
       "      <td>brasileiro(a)</td>\n",
       "      <td>conclui_2019</td>\n",
       "      <td>publica</td>\n",
       "      <td>nao</td>\n",
       "      <td>...</td>\n",
       "      <td>393.2</td>\n",
       "      <td>espanhol</td>\n",
       "      <td>sem_problemas</td>\n",
       "      <td>80.0</td>\n",
       "      <td>160.0</td>\n",
       "      <td>120.0</td>\n",
       "      <td>100.0</td>\n",
       "      <td>100.0</td>\n",
       "      <td>560.0</td>\n",
       "      <td>B</td>\n",
       "    </tr>\n",
       "    <tr>\n",
       "      <th>3</th>\n",
       "      <td>1,90E+11</td>\n",
       "      <td>Embu-Guaçu</td>\n",
       "      <td>17</td>\n",
       "      <td>F</td>\n",
       "      <td>solteiro(a)</td>\n",
       "      <td>parda</td>\n",
       "      <td>brasileiro(a)</td>\n",
       "      <td>conclui_2019</td>\n",
       "      <td>publica</td>\n",
       "      <td>nao</td>\n",
       "      <td>...</td>\n",
       "      <td>419.2</td>\n",
       "      <td>ingles</td>\n",
       "      <td>sem_problemas</td>\n",
       "      <td>120.0</td>\n",
       "      <td>120.0</td>\n",
       "      <td>120.0</td>\n",
       "      <td>120.0</td>\n",
       "      <td>80.0</td>\n",
       "      <td>560.0</td>\n",
       "      <td>B</td>\n",
       "    </tr>\n",
       "    <tr>\n",
       "      <th>4</th>\n",
       "      <td>1,90E+11</td>\n",
       "      <td>Guarulhos</td>\n",
       "      <td>23</td>\n",
       "      <td>F</td>\n",
       "      <td>solteiro(a)</td>\n",
       "      <td>branca</td>\n",
       "      <td>brasileiro(a)</td>\n",
       "      <td>ja_concluiu</td>\n",
       "      <td>nao_declarado</td>\n",
       "      <td>nao</td>\n",
       "      <td>...</td>\n",
       "      <td>796.1</td>\n",
       "      <td>ingles</td>\n",
       "      <td>sem_problemas</td>\n",
       "      <td>160.0</td>\n",
       "      <td>200.0</td>\n",
       "      <td>180.0</td>\n",
       "      <td>180.0</td>\n",
       "      <td>160.0</td>\n",
       "      <td>880.0</td>\n",
       "      <td>B</td>\n",
       "    </tr>\n",
       "    <tr>\n",
       "      <th>...</th>\n",
       "      <td>...</td>\n",
       "      <td>...</td>\n",
       "      <td>...</td>\n",
       "      <td>...</td>\n",
       "      <td>...</td>\n",
       "      <td>...</td>\n",
       "      <td>...</td>\n",
       "      <td>...</td>\n",
       "      <td>...</td>\n",
       "      <td>...</td>\n",
       "      <td>...</td>\n",
       "      <td>...</td>\n",
       "      <td>...</td>\n",
       "      <td>...</td>\n",
       "      <td>...</td>\n",
       "      <td>...</td>\n",
       "      <td>...</td>\n",
       "      <td>...</td>\n",
       "      <td>...</td>\n",
       "      <td>...</td>\n",
       "      <td>...</td>\n",
       "    </tr>\n",
       "    <tr>\n",
       "      <th>581166</th>\n",
       "      <td>1,90E+11</td>\n",
       "      <td>São Paulo</td>\n",
       "      <td>18</td>\n",
       "      <td>F</td>\n",
       "      <td>solteiro(a)</td>\n",
       "      <td>parda</td>\n",
       "      <td>brasileiro(a)</td>\n",
       "      <td>ja_concluiu</td>\n",
       "      <td>nao_declarado</td>\n",
       "      <td>nao</td>\n",
       "      <td>...</td>\n",
       "      <td>479.1</td>\n",
       "      <td>espanhol</td>\n",
       "      <td>sem_problemas</td>\n",
       "      <td>100.0</td>\n",
       "      <td>120.0</td>\n",
       "      <td>120.0</td>\n",
       "      <td>140.0</td>\n",
       "      <td>100.0</td>\n",
       "      <td>580.0</td>\n",
       "      <td>B</td>\n",
       "    </tr>\n",
       "    <tr>\n",
       "      <th>581167</th>\n",
       "      <td>1,90E+11</td>\n",
       "      <td>São Paulo</td>\n",
       "      <td>17</td>\n",
       "      <td>F</td>\n",
       "      <td>solteiro(a)</td>\n",
       "      <td>preta</td>\n",
       "      <td>brasileiro(a)</td>\n",
       "      <td>conclui_2019</td>\n",
       "      <td>publica</td>\n",
       "      <td>nao</td>\n",
       "      <td>...</td>\n",
       "      <td>43.2</td>\n",
       "      <td>espanhol</td>\n",
       "      <td>sem_problemas</td>\n",
       "      <td>80.0</td>\n",
       "      <td>120.0</td>\n",
       "      <td>140.0</td>\n",
       "      <td>120.0</td>\n",
       "      <td>100.0</td>\n",
       "      <td>560.0</td>\n",
       "      <td>B</td>\n",
       "    </tr>\n",
       "    <tr>\n",
       "      <th>581168</th>\n",
       "      <td>1,90E+11</td>\n",
       "      <td>São Paulo</td>\n",
       "      <td>17</td>\n",
       "      <td>F</td>\n",
       "      <td>solteiro(a)</td>\n",
       "      <td>parda</td>\n",
       "      <td>brasileiro(a)</td>\n",
       "      <td>conclui_2019</td>\n",
       "      <td>publica</td>\n",
       "      <td>nao</td>\n",
       "      <td>...</td>\n",
       "      <td>487.3</td>\n",
       "      <td>ingles</td>\n",
       "      <td>sem_problemas</td>\n",
       "      <td>120.0</td>\n",
       "      <td>80.0</td>\n",
       "      <td>60.0</td>\n",
       "      <td>120.0</td>\n",
       "      <td>0.0</td>\n",
       "      <td>380.0</td>\n",
       "      <td>B</td>\n",
       "    </tr>\n",
       "    <tr>\n",
       "      <th>581169</th>\n",
       "      <td>1,90E+11</td>\n",
       "      <td>São Paulo</td>\n",
       "      <td>17</td>\n",
       "      <td>M</td>\n",
       "      <td>solteiro(a)</td>\n",
       "      <td>parda</td>\n",
       "      <td>brasileiro(a)</td>\n",
       "      <td>conclui_2019</td>\n",
       "      <td>publica</td>\n",
       "      <td>nao</td>\n",
       "      <td>...</td>\n",
       "      <td>401.1</td>\n",
       "      <td>ingles</td>\n",
       "      <td>sem_problemas</td>\n",
       "      <td>160.0</td>\n",
       "      <td>120.0</td>\n",
       "      <td>160.0</td>\n",
       "      <td>140.0</td>\n",
       "      <td>160.0</td>\n",
       "      <td>740.0</td>\n",
       "      <td>A</td>\n",
       "    </tr>\n",
       "    <tr>\n",
       "      <th>581170</th>\n",
       "      <td>1,90E+11</td>\n",
       "      <td>Araras</td>\n",
       "      <td>18</td>\n",
       "      <td>F</td>\n",
       "      <td>solteiro(a)</td>\n",
       "      <td>branca</td>\n",
       "      <td>brasileiro(a)</td>\n",
       "      <td>conclui_2019</td>\n",
       "      <td>publica</td>\n",
       "      <td>nao</td>\n",
       "      <td>...</td>\n",
       "      <td>559.5</td>\n",
       "      <td>ingles</td>\n",
       "      <td>sem_problemas</td>\n",
       "      <td>120.0</td>\n",
       "      <td>120.0</td>\n",
       "      <td>120.0</td>\n",
       "      <td>120.0</td>\n",
       "      <td>140.0</td>\n",
       "      <td>620.0</td>\n",
       "      <td>B</td>\n",
       "    </tr>\n",
       "  </tbody>\n",
       "</table>\n",
       "<p>581171 rows × 28 columns</p>\n",
       "</div>"
      ],
      "text/plain": [
       "       INSCRICAO   MUNICIPIO_RESIDENCIA  IDADE SEXO ESTADO_CIVIL COR_RACA  \\\n",
       "0       1,90E+11           Santa Isabel     22    M  solteiro(a)    parda   \n",
       "1       1,90E+11              São Paulo     17    F  solteiro(a)    parda   \n",
       "2       1,90E+11  São Bernardo do Campo     19    M  solteiro(a)    parda   \n",
       "3       1,90E+11             Embu-Guaçu     17    F  solteiro(a)    parda   \n",
       "4       1,90E+11              Guarulhos     23    F  solteiro(a)   branca   \n",
       "...          ...                    ...    ...  ...          ...      ...   \n",
       "581166  1,90E+11              São Paulo     18    F  solteiro(a)    parda   \n",
       "581167  1,90E+11              São Paulo     17    F  solteiro(a)    preta   \n",
       "581168  1,90E+11              São Paulo     17    F  solteiro(a)    parda   \n",
       "581169  1,90E+11              São Paulo     17    M  solteiro(a)    parda   \n",
       "581170  1,90E+11                 Araras     18    F  solteiro(a)   branca   \n",
       "\n",
       "        NACIONALIDADE     CONCLUSAO         ESCOLA TREINEIRO  ...  NOTA_MT  \\\n",
       "0       brasileiro(a)   ja_concluiu  nao_declarado       nao  ...    600.2   \n",
       "1       brasileiro(a)  conclui_2019        privada       nao  ...    731.8   \n",
       "2       brasileiro(a)  conclui_2019        publica       nao  ...    393.2   \n",
       "3       brasileiro(a)  conclui_2019        publica       nao  ...    419.2   \n",
       "4       brasileiro(a)   ja_concluiu  nao_declarado       nao  ...    796.1   \n",
       "...               ...           ...            ...       ...  ...      ...   \n",
       "581166  brasileiro(a)   ja_concluiu  nao_declarado       nao  ...    479.1   \n",
       "581167  brasileiro(a)  conclui_2019        publica       nao  ...     43.2   \n",
       "581168  brasileiro(a)  conclui_2019        publica       nao  ...    487.3   \n",
       "581169  brasileiro(a)  conclui_2019        publica       nao  ...    401.1   \n",
       "581170  brasileiro(a)  conclui_2019        publica       nao  ...    559.5   \n",
       "\n",
       "          LINGUA STATUS_REDACAO NOTA_COMP1 NOTA_COMP2  NOTA_COMP3  NOTA_COMP4  \\\n",
       "0         ingles  sem_problemas      160.0      200.0       180.0       200.0   \n",
       "1         ingles  sem_problemas      160.0      120.0       200.0       200.0   \n",
       "2       espanhol  sem_problemas       80.0      160.0       120.0       100.0   \n",
       "3         ingles  sem_problemas      120.0      120.0       120.0       120.0   \n",
       "4         ingles  sem_problemas      160.0      200.0       180.0       180.0   \n",
       "...          ...            ...        ...        ...         ...         ...   \n",
       "581166  espanhol  sem_problemas      100.0      120.0       120.0       140.0   \n",
       "581167  espanhol  sem_problemas       80.0      120.0       140.0       120.0   \n",
       "581168    ingles  sem_problemas      120.0       80.0        60.0       120.0   \n",
       "581169    ingles  sem_problemas      160.0      120.0       160.0       140.0   \n",
       "581170    ingles  sem_problemas      120.0      120.0       120.0       120.0   \n",
       "\n",
       "        NOTA_COMP5  NOTA_REDACAO Q025  \n",
       "0            200.0         940.0    B  \n",
       "1            200.0         880.0    A  \n",
       "2            100.0         560.0    B  \n",
       "3             80.0         560.0    B  \n",
       "4            160.0         880.0    B  \n",
       "...            ...           ...  ...  \n",
       "581166       100.0         580.0    B  \n",
       "581167       100.0         560.0    B  \n",
       "581168         0.0         380.0    B  \n",
       "581169       160.0         740.0    A  \n",
       "581170       140.0         620.0    B  \n",
       "\n",
       "[581171 rows x 28 columns]"
      ]
     },
     "execution_count": 76,
     "metadata": {},
     "output_type": "execute_result"
    }
   ],
   "source": [
    "df_esc = df[df['ESCOLA'].isin(list_grouped)]\n",
    "df_esc"
   ]
  },
  {
   "cell_type": "markdown",
   "metadata": {
    "id": "kcLQ6dyfjlHl"
   },
   "source": [
    "### Análise de similaridades entre reclamações de bairros\n",
    "\n",
    "Queremos agora identificar bairros com problemas similares. Com o método crosstab() podemos gerar um novo DataFrame com os bairros nas colunas e os assuntos (os mais comuns, filtrados acima) nas linhas."
   ]
  },
  {
   "cell_type": "code",
   "execution_count": 98,
   "metadata": {
    "colab": {
     "base_uri": "https://localhost:8080/",
     "height": 696
    },
    "executionInfo": {
     "elapsed": 259,
     "status": "ok",
     "timestamp": 1663185097391,
     "user": {
      "displayName": "Mary Camila",
      "userId": "10145587910349238787"
     },
     "user_tz": 180
    },
    "id": "XyXRVhiNjond",
    "outputId": "eecde66d-c260-4d34-e326-7d506a8c41f3"
   },
   "outputs": [
    {
     "data": {
      "text/html": [
       "<div>\n",
       "<style scoped>\n",
       "    .dataframe tbody tr th:only-of-type {\n",
       "        vertical-align: middle;\n",
       "    }\n",
       "\n",
       "    .dataframe tbody tr th {\n",
       "        vertical-align: top;\n",
       "    }\n",
       "\n",
       "    .dataframe thead th {\n",
       "        text-align: right;\n",
       "    }\n",
       "</style>\n",
       "<table border=\"1\" class=\"dataframe\">\n",
       "  <thead>\n",
       "    <tr style=\"text-align: right;\">\n",
       "      <th>ESCOLA</th>\n",
       "      <th>nao_declarado</th>\n",
       "      <th>privada</th>\n",
       "      <th>publica</th>\n",
       "    </tr>\n",
       "    <tr>\n",
       "      <th>NOTA_REDACAO</th>\n",
       "      <th></th>\n",
       "      <th></th>\n",
       "      <th></th>\n",
       "    </tr>\n",
       "  </thead>\n",
       "  <tbody>\n",
       "    <tr>\n",
       "      <th>0.0</th>\n",
       "      <td>6000</td>\n",
       "      <td>198</td>\n",
       "      <td>4239</td>\n",
       "    </tr>\n",
       "    <tr>\n",
       "      <th>40.0</th>\n",
       "      <td>1</td>\n",
       "      <td>0</td>\n",
       "      <td>0</td>\n",
       "    </tr>\n",
       "    <tr>\n",
       "      <th>60.0</th>\n",
       "      <td>2</td>\n",
       "      <td>0</td>\n",
       "      <td>2</td>\n",
       "    </tr>\n",
       "    <tr>\n",
       "      <th>80.0</th>\n",
       "      <td>1</td>\n",
       "      <td>0</td>\n",
       "      <td>0</td>\n",
       "    </tr>\n",
       "    <tr>\n",
       "      <th>100.0</th>\n",
       "      <td>4</td>\n",
       "      <td>0</td>\n",
       "      <td>1</td>\n",
       "    </tr>\n",
       "    <tr>\n",
       "      <th>120.0</th>\n",
       "      <td>11</td>\n",
       "      <td>0</td>\n",
       "      <td>6</td>\n",
       "    </tr>\n",
       "    <tr>\n",
       "      <th>140.0</th>\n",
       "      <td>12</td>\n",
       "      <td>1</td>\n",
       "      <td>8</td>\n",
       "    </tr>\n",
       "    <tr>\n",
       "      <th>160.0</th>\n",
       "      <td>44</td>\n",
       "      <td>0</td>\n",
       "      <td>23</td>\n",
       "    </tr>\n",
       "    <tr>\n",
       "      <th>180.0</th>\n",
       "      <td>64</td>\n",
       "      <td>2</td>\n",
       "      <td>45</td>\n",
       "    </tr>\n",
       "    <tr>\n",
       "      <th>200.0</th>\n",
       "      <td>194</td>\n",
       "      <td>7</td>\n",
       "      <td>129</td>\n",
       "    </tr>\n",
       "    <tr>\n",
       "      <th>220.0</th>\n",
       "      <td>417</td>\n",
       "      <td>12</td>\n",
       "      <td>286</td>\n",
       "    </tr>\n",
       "    <tr>\n",
       "      <th>240.0</th>\n",
       "      <td>1150</td>\n",
       "      <td>31</td>\n",
       "      <td>812</td>\n",
       "    </tr>\n",
       "    <tr>\n",
       "      <th>260.0</th>\n",
       "      <td>1594</td>\n",
       "      <td>45</td>\n",
       "      <td>1217</td>\n",
       "    </tr>\n",
       "    <tr>\n",
       "      <th>280.0</th>\n",
       "      <td>3037</td>\n",
       "      <td>111</td>\n",
       "      <td>2087</td>\n",
       "    </tr>\n",
       "    <tr>\n",
       "      <th>300.0</th>\n",
       "      <td>3357</td>\n",
       "      <td>159</td>\n",
       "      <td>2508</td>\n",
       "    </tr>\n",
       "    <tr>\n",
       "      <th>320.0</th>\n",
       "      <td>5172</td>\n",
       "      <td>262</td>\n",
       "      <td>3753</td>\n",
       "    </tr>\n",
       "    <tr>\n",
       "      <th>340.0</th>\n",
       "      <td>3413</td>\n",
       "      <td>196</td>\n",
       "      <td>2490</td>\n",
       "    </tr>\n",
       "    <tr>\n",
       "      <th>360.0</th>\n",
       "      <td>4339</td>\n",
       "      <td>252</td>\n",
       "      <td>3197</td>\n",
       "    </tr>\n",
       "    <tr>\n",
       "      <th>380.0</th>\n",
       "      <td>2886</td>\n",
       "      <td>121</td>\n",
       "      <td>1901</td>\n",
       "    </tr>\n",
       "    <tr>\n",
       "      <th>400.0</th>\n",
       "      <td>4585</td>\n",
       "      <td>213</td>\n",
       "      <td>3102</td>\n",
       "    </tr>\n",
       "  </tbody>\n",
       "</table>\n",
       "</div>"
      ],
      "text/plain": [
       "ESCOLA        nao_declarado  privada  publica\n",
       "NOTA_REDACAO                                 \n",
       "0.0                    6000      198     4239\n",
       "40.0                      1        0        0\n",
       "60.0                      2        0        2\n",
       "80.0                      1        0        0\n",
       "100.0                     4        0        1\n",
       "120.0                    11        0        6\n",
       "140.0                    12        1        8\n",
       "160.0                    44        0       23\n",
       "180.0                    64        2       45\n",
       "200.0                   194        7      129\n",
       "220.0                   417       12      286\n",
       "240.0                  1150       31      812\n",
       "260.0                  1594       45     1217\n",
       "280.0                  3037      111     2087\n",
       "300.0                  3357      159     2508\n",
       "320.0                  5172      262     3753\n",
       "340.0                  3413      196     2490\n",
       "360.0                  4339      252     3197\n",
       "380.0                  2886      121     1901\n",
       "400.0                  4585      213     3102"
      ]
     },
     "execution_count": 98,
     "metadata": {},
     "output_type": "execute_result"
    }
   ],
   "source": [
    "df_cross = pd.crosstab(df_esc.NOTA_REDACAO, df_esc.ESCOLA)\n",
    "df_cross.head(20)"
   ]
  },
  {
   "cell_type": "markdown",
   "metadata": {
    "id": "JubUf2vkjrbd"
   },
   "source": [
    "Usando o DataFrame obtido anteriormente vamos gerar a matriz de correlações entre escolas"
   ]
  },
  {
   "cell_type": "code",
   "execution_count": 95,
   "metadata": {
    "colab": {
     "base_uri": "https://localhost:8080/",
     "height": 588
    },
    "executionInfo": {
     "elapsed": 7,
     "status": "ok",
     "timestamp": 1663185126806,
     "user": {
      "displayName": "Mary Camila",
      "userId": "10145587910349238787"
     },
     "user_tz": 180
    },
    "id": "z0iT3ZVZjud1",
    "outputId": "e0ef2c93-a37a-42db-89a9-f757bba9f255"
   },
   "outputs": [
    {
     "data": {
      "text/html": [
       "<div>\n",
       "<style scoped>\n",
       "    .dataframe tbody tr th:only-of-type {\n",
       "        vertical-align: middle;\n",
       "    }\n",
       "\n",
       "    .dataframe tbody tr th {\n",
       "        vertical-align: top;\n",
       "    }\n",
       "\n",
       "    .dataframe thead th {\n",
       "        text-align: right;\n",
       "    }\n",
       "</style>\n",
       "<table border=\"1\" class=\"dataframe\">\n",
       "  <thead>\n",
       "    <tr style=\"text-align: right;\">\n",
       "      <th>ESCOLA</th>\n",
       "      <th>nao_declarado</th>\n",
       "      <th>privada</th>\n",
       "      <th>publica</th>\n",
       "    </tr>\n",
       "    <tr>\n",
       "      <th>ESCOLA</th>\n",
       "      <th></th>\n",
       "      <th></th>\n",
       "      <th></th>\n",
       "    </tr>\n",
       "  </thead>\n",
       "  <tbody>\n",
       "    <tr>\n",
       "      <th>nao_declarado</th>\n",
       "      <td>1.000000</td>\n",
       "      <td>0.771494</td>\n",
       "      <td>0.977330</td>\n",
       "    </tr>\n",
       "    <tr>\n",
       "      <th>privada</th>\n",
       "      <td>0.771494</td>\n",
       "      <td>1.000000</td>\n",
       "      <td>0.624661</td>\n",
       "    </tr>\n",
       "    <tr>\n",
       "      <th>publica</th>\n",
       "      <td>0.977330</td>\n",
       "      <td>0.624661</td>\n",
       "      <td>1.000000</td>\n",
       "    </tr>\n",
       "  </tbody>\n",
       "</table>\n",
       "</div>"
      ],
      "text/plain": [
       "ESCOLA         nao_declarado   privada   publica\n",
       "ESCOLA                                          \n",
       "nao_declarado       1.000000  0.771494  0.977330\n",
       "privada             0.771494  1.000000  0.624661\n",
       "publica             0.977330  0.624661  1.000000"
      ]
     },
     "execution_count": 95,
     "metadata": {},
     "output_type": "execute_result"
    }
   ],
   "source": [
    "df_corr = df_cross.corr()\n",
    "df_corr"
   ]
  },
  {
   "cell_type": "code",
   "execution_count": 96,
   "metadata": {
    "colab": {
     "base_uri": "https://localhost:8080/",
     "height": 1000
    },
    "executionInfo": {
     "elapsed": 1957,
     "status": "ok",
     "timestamp": 1663185277343,
     "user": {
      "displayName": "Mary Camila",
      "userId": "10145587910349238787"
     },
     "user_tz": 180
    },
    "id": "2bLztSbzj0TQ",
    "outputId": "e1deca14-1be0-4049-e1bf-4781114f71dd"
   },
   "outputs": [
    {
     "data": {
      "text/html": [
       "<style type=\"text/css\">\n",
       "#T_76e3f_row0_col0, #T_76e3f_row1_col1, #T_76e3f_row2_col2 {\n",
       "  background-color: #053061;\n",
       "  color: #f1f1f1;\n",
       "}\n",
       "#T_76e3f_row0_col1 {\n",
       "  background-color: #fcd7c2;\n",
       "  color: #000000;\n",
       "}\n",
       "#T_76e3f_row0_col2 {\n",
       "  background-color: #15508d;\n",
       "  color: #f1f1f1;\n",
       "}\n",
       "#T_76e3f_row1_col0, #T_76e3f_row1_col2, #T_76e3f_row2_col1 {\n",
       "  background-color: #67001f;\n",
       "  color: #f1f1f1;\n",
       "}\n",
       "#T_76e3f_row2_col0 {\n",
       "  background-color: #2065ab;\n",
       "  color: #f1f1f1;\n",
       "}\n",
       "</style>\n",
       "<table id=\"T_76e3f\">\n",
       "  <thead>\n",
       "    <tr>\n",
       "      <th class=\"index_name level0\" >ESCOLA</th>\n",
       "      <th id=\"T_76e3f_level0_col0\" class=\"col_heading level0 col0\" >nao_declarado</th>\n",
       "      <th id=\"T_76e3f_level0_col1\" class=\"col_heading level0 col1\" >privada</th>\n",
       "      <th id=\"T_76e3f_level0_col2\" class=\"col_heading level0 col2\" >publica</th>\n",
       "    </tr>\n",
       "    <tr>\n",
       "      <th class=\"index_name level0\" >ESCOLA</th>\n",
       "      <th class=\"blank col0\" >&nbsp;</th>\n",
       "      <th class=\"blank col1\" >&nbsp;</th>\n",
       "      <th class=\"blank col2\" >&nbsp;</th>\n",
       "    </tr>\n",
       "  </thead>\n",
       "  <tbody>\n",
       "    <tr>\n",
       "      <th id=\"T_76e3f_level0_row0\" class=\"row_heading level0 row0\" >nao_declarado</th>\n",
       "      <td id=\"T_76e3f_row0_col0\" class=\"data row0 col0\" >1.000000</td>\n",
       "      <td id=\"T_76e3f_row0_col1\" class=\"data row0 col1\" >0.771494</td>\n",
       "      <td id=\"T_76e3f_row0_col2\" class=\"data row0 col2\" >0.977330</td>\n",
       "    </tr>\n",
       "    <tr>\n",
       "      <th id=\"T_76e3f_level0_row1\" class=\"row_heading level0 row1\" >privada</th>\n",
       "      <td id=\"T_76e3f_row1_col0\" class=\"data row1 col0\" >0.771494</td>\n",
       "      <td id=\"T_76e3f_row1_col1\" class=\"data row1 col1\" >1.000000</td>\n",
       "      <td id=\"T_76e3f_row1_col2\" class=\"data row1 col2\" >0.624661</td>\n",
       "    </tr>\n",
       "    <tr>\n",
       "      <th id=\"T_76e3f_level0_row2\" class=\"row_heading level0 row2\" >publica</th>\n",
       "      <td id=\"T_76e3f_row2_col0\" class=\"data row2 col0\" >0.977330</td>\n",
       "      <td id=\"T_76e3f_row2_col1\" class=\"data row2 col1\" >0.624661</td>\n",
       "      <td id=\"T_76e3f_row2_col2\" class=\"data row2 col2\" >1.000000</td>\n",
       "    </tr>\n",
       "  </tbody>\n",
       "</table>\n"
      ],
      "text/plain": [
       "<pandas.io.formats.style.Styler at 0x23821ccbc70>"
      ]
     },
     "execution_count": 96,
     "metadata": {},
     "output_type": "execute_result"
    }
   ],
   "source": [
    "df_corr = df_corr.style.background_gradient(cmap=\"RdBu\")\n",
    "df_corr"
   ]
  },
  {
   "cell_type": "code",
   "execution_count": 100,
   "metadata": {
    "colab": {
     "base_uri": "https://localhost:8080/",
     "height": 455
    },
    "executionInfo": {
     "elapsed": 345,
     "status": "ok",
     "timestamp": 1663185365800,
     "user": {
      "displayName": "Mary Camila",
      "userId": "10145587910349238787"
     },
     "user_tz": 180
    },
    "id": "L72lTrPlki6t",
    "outputId": "2fc3fa27-ea47-41ae-b119-8ac0f99c63f7"
   },
   "outputs": [
    {
     "data": {
      "text/html": [
       "<div>\n",
       "<style scoped>\n",
       "    .dataframe tbody tr th:only-of-type {\n",
       "        vertical-align: middle;\n",
       "    }\n",
       "\n",
       "    .dataframe tbody tr th {\n",
       "        vertical-align: top;\n",
       "    }\n",
       "\n",
       "    .dataframe thead th {\n",
       "        text-align: right;\n",
       "    }\n",
       "</style>\n",
       "<table border=\"1\" class=\"dataframe\">\n",
       "  <thead>\n",
       "    <tr style=\"text-align: right;\">\n",
       "      <th></th>\n",
       "      <th>COUNT</th>\n",
       "    </tr>\n",
       "    <tr>\n",
       "      <th>ESCOLA</th>\n",
       "      <th></th>\n",
       "    </tr>\n",
       "  </thead>\n",
       "  <tbody>\n",
       "    <tr>\n",
       "      <th>nao_declarado</th>\n",
       "      <td>345914</td>\n",
       "    </tr>\n",
       "    <tr>\n",
       "      <th>privada</th>\n",
       "      <td>55923</td>\n",
       "    </tr>\n",
       "    <tr>\n",
       "      <th>publica</th>\n",
       "      <td>179334</td>\n",
       "    </tr>\n",
       "  </tbody>\n",
       "</table>\n",
       "</div>"
      ],
      "text/plain": [
       "                COUNT\n",
       "ESCOLA               \n",
       "nao_declarado  345914\n",
       "privada         55923\n",
       "publica        179334"
      ]
     },
     "execution_count": 100,
     "metadata": {},
     "output_type": "execute_result"
    }
   ],
   "source": [
    "df_reclamacao_bairro = pd.DataFrame(df_cross.sum(), columns=['COUNT'])\n",
    "df_reclamacao_bairro"
   ]
  },
  {
   "cell_type": "code",
   "execution_count": 101,
   "metadata": {
    "colab": {
     "base_uri": "https://localhost:8080/",
     "height": 519
    },
    "executionInfo": {
     "elapsed": 805,
     "status": "ok",
     "timestamp": 1663186962441,
     "user": {
      "displayName": "Mary Camila",
      "userId": "10145587910349238787"
     },
     "user_tz": 180
    },
    "id": "0pX9rEdgksMM",
    "outputId": "8cc4ada3-d76a-4126-8559-26de7a159be0",
    "scrolled": true
   },
   "outputs": [
    {
     "data": {
      "text/plain": [
       "<AxesSubplot:xlabel='COUNT', ylabel='ESCOLA'>"
      ]
     },
     "execution_count": 101,
     "metadata": {},
     "output_type": "execute_result"
    },
    {
     "data": {
      "image/png": "[encoded data removed]",
      "text/plain": [
       "<Figure size 1080x576 with 1 Axes>"
      ]
     },
     "metadata": {
      "needs_background": "light"
     },
     "output_type": "display_data"
    }
   ],
   "source": [
    "dfgraph = df.groupby(['ESCOLA']).size().reset_index(name = 'COUNT')\n",
    "dfgraph = dfgraph.sort_values('COUNT')\n",
    "dfgraph = dfgraph[dfgraph['COUNT'] > 100].sort_values('COUNT', ascending=False)\n",
    "\n",
    "plt.figure(figsize=(15,8))\n",
    "sns.barplot(data=dfgraph, x=\"COUNT\", y=\"ESCOLA\", orient=\"h\")"
   ]
  },
  {
   "cell_type": "markdown",
   "metadata": {
    "id": "naih7_xOkwdl"
   },
   "source": []
  }
 ],
 "metadata": {
  "colab": {
   "collapsed_sections": [],
   "provenance": []
  },
  "hide_input": false,
  "kernelspec": {
   "display_name": "Python 3.9.12 ('base')",
   "language": "python",
   "name": "python3"
  },
  "language_info": {
   "codemirror_mode": {
    "name": "ipython",
    "version": 3
   },
   "file_extension": ".py",
   "mimetype": "text/x-python",
   "name": "python",
   "nbconvert_exporter": "python",
   "pygments_lexer": "ipython3",
   "version": "3.9.12"
  },
  "vscode": {
   "interpreter": {
    "hash": "afbaf829a09e03802c507b7b57aad260435b49dd60b1d45419f94027e05bff57"
   }
  }
 },
 "nbformat": 4,
 "nbformat_minor": 1
}
